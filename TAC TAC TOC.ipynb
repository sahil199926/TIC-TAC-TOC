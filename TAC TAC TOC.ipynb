{
 "cells": [
  {
   "cell_type": "code",
   "execution_count": 22,
   "metadata": {},
   "outputs": [],
   "source": [
    "from IPython.display import clear_output\n",
    "def display_board(board):\n",
    "    clear_output()\n",
    "    \n",
    "    print(board[7]+' | '+ board[8]+' | '+board[9])\n",
    "    print('..|...|...')\n",
    "    print(board[4]+' | '+ board[5]+' | '+board[6])\n",
    "    print('..|...|...')\n",
    "    print(board[1]+' | '+ board[2]+' | '+board[3])"
   ]
  },
  {
   "cell_type": "code",
   "execution_count": null,
   "metadata": {},
   "outputs": [],
   "source": [
    "\n"
   ]
  },
  {
   "cell_type": "code",
   "execution_count": null,
   "metadata": {},
   "outputs": [],
   "source": []
  },
  {
   "cell_type": "code",
   "execution_count": 23,
   "metadata": {},
   "outputs": [],
   "source": [
    "def playerinput():\n",
    "    y=''\n",
    "    while y!='X' and y!='O':\n",
    "        y=input(\"plz select a input mark x or o  \").upper()\n",
    "    if y=='X':\n",
    "        player1='X'\n",
    "        player2='O'\n",
    "        return('X','O')\n",
    "    else:\n",
    "        player1='O'\n",
    "        player2='X'\n",
    "        return('O','X')\n",
    "\n",
    "   \n",
    "        "
   ]
  },
  {
   "cell_type": "code",
   "execution_count": null,
   "metadata": {},
   "outputs": [],
   "source": []
  },
  {
   "cell_type": "code",
   "execution_count": 24,
   "metadata": {},
   "outputs": [],
   "source": [
    "def placemarker(board,position,mark):\n",
    "    board[position]=mark"
   ]
  },
  {
   "cell_type": "code",
   "execution_count": null,
   "metadata": {},
   "outputs": [],
   "source": []
  },
  {
   "cell_type": "code",
   "execution_count": null,
   "metadata": {},
   "outputs": [],
   "source": []
  },
  {
   "cell_type": "code",
   "execution_count": 25,
   "metadata": {},
   "outputs": [],
   "source": [
    "def check_won(board,mark):\n",
    "    if ((board[1]== mark and board[2]== mark and board[3]==mark)or \n",
    "            (board[4]== mark and board[5]== mark and board[6]==mark) or \n",
    "            (board[7]== mark and board[8]== mark and board[9]==mark) or \n",
    "            (board[1]== mark and board[5]== mark and board[9]==mark) or \n",
    "            (board[7]== mark and board[5]== mark and board[3]==mark) or \n",
    "            (board[1]==mark and board[4]==mark and board[7]==mark) or \n",
    "            (board[2]==mark and board[5]==mark and board[8]==mark) or \n",
    "            (board[3]==mark and board[6]==mark and board[9]==mark)):\n",
    "        return True\n",
    "    else:\n",
    "        return False\n",
    "  "
   ]
  },
  {
   "cell_type": "code",
   "execution_count": null,
   "metadata": {},
   "outputs": [],
   "source": []
  },
  {
   "cell_type": "code",
   "execution_count": 26,
   "metadata": {},
   "outputs": [],
   "source": [
    "import random\n",
    "def first():\n",
    "    y= random.randint(0,1)\n",
    "    if y==0:\n",
    "        return '---------player 1 will go first--------- '\n",
    "    elif y==1:\n",
    "        return '---------player 2 will go first--------- '\n",
    "    \n",
    "\n",
    "    "
   ]
  },
  {
   "cell_type": "code",
   "execution_count": null,
   "metadata": {},
   "outputs": [],
   "source": []
  },
  {
   "cell_type": "code",
   "execution_count": 27,
   "metadata": {},
   "outputs": [],
   "source": [
    "def space(board,position):\n",
    "    if board[position]==' ':\n",
    "        return True\n",
    "    else:\n",
    "        return False"
   ]
  },
  {
   "cell_type": "code",
   "execution_count": null,
   "metadata": {},
   "outputs": [],
   "source": []
  },
  {
   "cell_type": "code",
   "execution_count": 28,
   "metadata": {},
   "outputs": [],
   "source": [
    "def fullspace(board):\n",
    "    for i in range(1,10):\n",
    "        if space(board,i):\n",
    "            return False\n",
    "    return True"
   ]
  },
  {
   "cell_type": "code",
   "execution_count": null,
   "metadata": {},
   "outputs": [],
   "source": []
  },
  {
   "cell_type": "code",
   "execution_count": 29,
   "metadata": {},
   "outputs": [],
   "source": [
    " def nextmove(board):\n",
    "        position=0\n",
    "        while position not in [1,2,3,4,5,6,7,8,9] or not space(board,position):\n",
    "            position=int(input('---------choose your position(1-9)---------'))\n",
    "        return position"
   ]
  },
  {
   "cell_type": "code",
   "execution_count": null,
   "metadata": {},
   "outputs": [],
   "source": []
  },
  {
   "cell_type": "code",
   "execution_count": 30,
   "metadata": {},
   "outputs": [],
   "source": [
    "def replay():\n",
    "    y= input('---------do you want to play again press y/n---------')\n",
    "    if y=='y':\n",
    "        clear_output()\n",
    "        return True\n",
    "            "
   ]
  },
  {
   "cell_type": "code",
   "execution_count": null,
   "metadata": {},
   "outputs": [
    {
     "name": "stdout",
     "output_type": "stream",
     "text": [
      "----------------well come to tic tac toc----------------- \n"
     ]
    }
   ],
   "source": [
    "print('----------------well come to tic tac toc----------------- ')\n",
    "#while loop to keep running the game\n",
    "while True:\n",
    "    #set everything \n",
    "    \n",
    "    test_board=[' ']*10\n",
    "    ##player markers\n",
    "    player1marker,player2marker=playerinput()\n",
    "    #choose the player to go\n",
    "    turn=first()\n",
    "    print(turn)\n",
    "    #ask for ready or not\n",
    "    play_game=''\n",
    "    while play_game!='yes' and play_game!='no':\n",
    "        play_game=input('-----------------------ready to play yes/no----------------------- :')\n",
    "        if play_game=='yes':\n",
    "            game_on=True\n",
    "        else:\n",
    "            game_on=False\n",
    "\n",
    "    #play game\n",
    "    while game_on:\n",
    "        if turn=='---------player 1 will go first--------- ':\n",
    "            clear_output()\n",
    "            #player 1 turn\n",
    "            display_board(test_board)\n",
    "            #ask for position\n",
    "            position=nextmove(test_board)\n",
    "        \n",
    "        \n",
    "            #place the marker to the position\n",
    "            placemarker(test_board,position,player1marker)\n",
    "            #check if won\n",
    "            if check_won(test_board,player1marker):\n",
    "                display_board(test_board)\n",
    "                print('player 1 has won ')\n",
    "                game_on=False\n",
    "            #check if tie\n",
    "            else:\n",
    "                if fullspace(test_board):\n",
    "                    display_board(test_board)\n",
    "                    print('game is tie')\n",
    "                    game_on=False\n",
    "                else:\n",
    "                    #no tie no win the player2 turn\n",
    "                    turn='---------player 2 will go first--------- '\n",
    "        else:\n",
    "            #player 2 turn\n",
    "            clear_output()\n",
    "            display_board(test_board)\n",
    "            #ask for position\n",
    "            position=nextmove(test_board)\n",
    "        \n",
    "        \n",
    "            #place the marker to the position\n",
    "            placemarker(test_board,position,player2marker)\n",
    "            #check if won\n",
    "            if check_won(test_board,player2marker):\n",
    "                display_board(test_board)\n",
    "                print('---------player 2 has won--------- ')\n",
    "                game_on=False\n",
    "            #check if tie\n",
    "            else:\n",
    "                if fullspace(test_board):\n",
    "                    display_board(test_board)\n",
    "                    print('game is tie')\n",
    "                    game_on=False\n",
    "                else:\n",
    "                    #no tie no win the player2 turn\n",
    "                    turn='---------player 1 will go first--------- '\n",
    "            \n",
    "    #ask of replay\n",
    "    if not replay():\n",
    "        clear_output()\n",
    "        print('------------------------thanks for playing------------------------')\n",
    "        break\n",
    "    #break out\n",
    "    \n",
    "        \n",
    "\n",
    "    \n",
    "    \n",
    "    "
   ]
  },
  {
   "cell_type": "code",
   "execution_count": null,
   "metadata": {},
   "outputs": [],
   "source": []
  },
  {
   "cell_type": "code",
   "execution_count": null,
   "metadata": {},
   "outputs": [],
   "source": []
  },
  {
   "cell_type": "code",
   "execution_count": null,
   "metadata": {},
   "outputs": [],
   "source": []
  },
  {
   "cell_type": "code",
   "execution_count": null,
   "metadata": {},
   "outputs": [],
   "source": []
  },
  {
   "cell_type": "code",
   "execution_count": null,
   "metadata": {},
   "outputs": [],
   "source": []
  },
  {
   "cell_type": "code",
   "execution_count": null,
   "metadata": {},
   "outputs": [],
   "source": []
  },
  {
   "cell_type": "code",
   "execution_count": null,
   "metadata": {},
   "outputs": [],
   "source": []
  },
  {
   "cell_type": "code",
   "execution_count": null,
   "metadata": {},
   "outputs": [],
   "source": []
  },
  {
   "cell_type": "code",
   "execution_count": null,
   "metadata": {},
   "outputs": [],
   "source": []
  },
  {
   "cell_type": "code",
   "execution_count": null,
   "metadata": {},
   "outputs": [],
   "source": []
  },
  {
   "cell_type": "code",
   "execution_count": null,
   "metadata": {},
   "outputs": [],
   "source": []
  },
  {
   "cell_type": "code",
   "execution_count": null,
   "metadata": {},
   "outputs": [],
   "source": []
  },
  {
   "cell_type": "code",
   "execution_count": null,
   "metadata": {},
   "outputs": [],
   "source": []
  },
  {
   "cell_type": "code",
   "execution_count": null,
   "metadata": {},
   "outputs": [],
   "source": []
  },
  {
   "cell_type": "code",
   "execution_count": null,
   "metadata": {},
   "outputs": [],
   "source": []
  }
 ],
 "metadata": {
  "kernelspec": {
   "display_name": "Python 3",
   "language": "python",
   "name": "python3"
  },
  "language_info": {
   "codemirror_mode": {
    "name": "ipython",
    "version": 3
   },
   "file_extension": ".py",
   "mimetype": "text/x-python",
   "name": "python",
   "nbconvert_exporter": "python",
   "pygments_lexer": "ipython3",
   "version": "3.7.4"
  }
 },
 "nbformat": 4,
 "nbformat_minor": 2
}
